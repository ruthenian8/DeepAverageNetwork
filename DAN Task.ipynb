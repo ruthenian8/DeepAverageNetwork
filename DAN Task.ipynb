{
  "nbformat": 4,
  "nbformat_minor": 5,
  "metadata": {
    "kernelspec": {
      "display_name": "Python 3",
      "language": "python",
      "name": "python3"
    },
    "language_info": {
      "codemirror_mode": {
        "name": "ipython",
        "version": 3
      },
      "file_extension": ".py",
      "mimetype": "text/x-python",
      "name": "python",
      "nbconvert_exporter": "python",
      "pygments_lexer": "ipython3",
      "version": "3.8.10"
    },
    "colab": {
      "name": "DAN Task.ipynb",
      "provenance": []
    }
  },
  "cells": [
    {
      "cell_type": "code",
      "metadata": {
        "id": "7ornANwcc-81"
      },
      "source": [
        "!pip install datasets"
      ],
      "id": "7ornANwcc-81",
      "execution_count": null,
      "outputs": []
    },
    {
      "cell_type": "code",
      "metadata": {
        "id": "7f9c64fb"
      },
      "source": [
        "from typing import Dict, List\n",
        "\n",
        "import matplotlib.pyplot as plt\n",
        "import numpy as np\n",
        "import pandas as pd\n",
        "import seaborn as sns\n",
        "import torch\n",
        "import re\n",
        "from datasets import load_dataset\n",
        "from nltk.tokenize import ToktokTokenizer\n",
        "from sklearn.metrics import f1_score, confusion_matrix, classification_report\n",
        "from torch import nn\n",
        "from torch.utils.data import DataLoader\n",
        "from tqdm import tqdm"
      ],
      "id": "7f9c64fb",
      "execution_count": 3,
      "outputs": []
    },
    {
      "cell_type": "code",
      "metadata": {
        "colab": {
          "base_uri": "https://localhost:8080/"
        },
        "id": "xqLV_dJ6zoJ4",
        "outputId": "f1aa5e8e-0003-495b-ac97-74cb770d6875"
      },
      "source": [
        "!wget https://dl.fbaipublicfiles.com/fasttext/vectors-wiki/wiki.en.vec"
      ],
      "id": "xqLV_dJ6zoJ4",
      "execution_count": 4,
      "outputs": [
        {
          "output_type": "stream",
          "name": "stdout",
          "text": [
            "--2021-10-26 11:58:21--  https://dl.fbaipublicfiles.com/fasttext/vectors-wiki/wiki.en.vec\n",
            "Resolving dl.fbaipublicfiles.com (dl.fbaipublicfiles.com)... 104.22.74.142, 172.67.9.4, 104.22.75.142, ...\n",
            "Connecting to dl.fbaipublicfiles.com (dl.fbaipublicfiles.com)|104.22.74.142|:443... connected.\n",
            "HTTP request sent, awaiting response... 200 OK\n",
            "Length: 6597238061 (6.1G) [binary/octet-stream]\n",
            "Saving to: ‘wiki.en.vec’\n",
            "\n",
            "wiki.en.vec         100%[===================>]   6.14G  24.3MB/s    in 4m 19s  \n",
            "\n",
            "2021-10-26 12:02:41 (24.3 MB/s) - ‘wiki.en.vec’ saved [6597238061/6597238061]\n",
            "\n"
          ]
        }
      ]
    },
    {
      "cell_type": "code",
      "metadata": {
        "id": "1TmYYmcreHbD",
        "outputId": "947b7abd-a1ea-4dfe-c2c9-84fbcfc47a58",
        "colab": {
          "base_uri": "https://localhost:8080/"
        }
      },
      "source": [
        "!tail -n 2 wiki.en.vec"
      ],
      "id": "1TmYYmcreHbD",
      "execution_count": 57,
      "outputs": [
        {
          "output_type": "stream",
          "name": "stdout",
          "text": [
            "style—but 0.070447 -0.14072 -0.65624 0.44562 0.093846 0.029631 -0.18981 -0.15442 0.043065 0.20402 -0.081675 0.43314 -0.32637 -0.18467 -0.30884 -0.11943 -0.18769 0.20119 -0.15296 0.16411 0.08494 -0.092707 0.04 0.16568 0.29459 0.028118 0.27135 0.1929 0.21838 0.095277 0.1308 0.22123 -0.49398 0.37017 -0.14654 0.053133 -0.16898 -0.11369 -0.23181 -0.12535 -0.14154 0.075662 0.082111 0.019291 0.12482 0.2302 -0.089153 0.14149 0.12761 -0.24876 0.077597 -0.34026 0.12535 0.20055 -0.18522 0.11459 0.21801 -0.097634 0.07866 0.17708 -0.057949 0.16689 -0.040789 0.22574 -0.029445 -0.063814 0.16282 0.7076 0.041795 0.059775 -0.072244 0.18128 -0.23501 0.2555 0.078896 0.16803 -0.069262 0.17466 0.044621 0.12005 -0.11696 -0.37913 0.20912 -0.017879 -0.14909 0.48079 0.079153 0.034718 -0.20746 0.088686 0.33523 0.016998 0.31303 -0.11954 0.2529 0.11243 0.23038 -0.060578 -0.10829 0.107 0.018652 -0.59998 0.1532 -0.035262 -0.20105 -0.39399 -0.33689 0.1384 -0.037944 -0.13595 0.07703 0.17178 -0.073602 0.10918 0.32407 -0.035055 0.25075 -0.25062 0.037603 -0.023607 -0.0058621 0.1359 -0.15741 0.34852 0.26663 0.019527 -0.072462 0.0093283 -0.17421 0.12924 -0.20237 -0.10493 -0.35572 -0.19263 -0.16564 0.082606 0.067571 0.11697 -0.034601 -0.0054269 0.16664 0.098941 0.34187 0.018436 -0.17017 0.13165 -0.2742 -0.080346 -0.11345 -0.32213 0.25471 -0.15371 -0.010189 0.094844 -0.44063 0.093854 -0.19097 0.089936 0.091746 -0.14429 -0.19947 0.25086 0.015008 0.00081998 0.16136 0.26018 -0.21611 -0.37683 0.21809 0.15289 -0.04166 -0.56653 -0.23255 0.030505 0.017601 0.1096 -0.0071306 0.0010654 0.13563 -0.018141 -0.14818 0.16621 0.27645 0.16024 -0.10132 0.47719 -0.12124 -0.18997 0.15696 -0.20753 0.10828 -0.35019 0.11327 0.19663 0.083849 0.047404 -0.023227 0.17746 0.028365 -0.060393 0.054443 0.08554 0.29469 0.18512 0.66766 -0.4707 -0.064158 -0.27736 0.31712 -0.042361 0.50494 0.28168 -0.15015 -0.2213 0.18038 0.013793 0.23235 -0.10591 -0.13792 0.23932 0.065947 -0.28716 -0.056289 -0.24501 -0.13721 0.30309 -0.0094562 -0.18871 -0.15515 -0.037956 0.13052 -0.0032909 0.0071806 -0.42958 -0.57602 0.43362 0.23588 0.30899 -0.29197 0.12536 0.064191 0.095812 0.40807 0.17531 -0.34435 -0.065202 0.02508 -0.090489 -0.10459 -0.24254 0.10204 0.15013 0.15092 -0.27866 0.21309 -0.13788 0.021454 -0.28326 -0.16421 -0.016965 0.14104 0.113 -0.068535 -0.23862 -0.26496 -0.16249 -0.26206 0.36489 -0.0078674 0.058408 -0.089576 -0.438 -0.0064544 0.16561 -0.11937 0.10298 0.093298 0.19502 -0.25018 -0.17438 0.19663 0.37351 -0.071079 -0.063416 -0.20772 0.072867 0.2689 0.1197 -0.45806 0.32265 0.01802 0.49683 0.19888 0.091359 0.13476 -0.28709 0.08022 0.095864 0.36397 0.030378 \n",
            "korpaljo -0.23073 0.060873 -0.19777 0.43128 -0.00078012 -0.39279 0.018535 -0.016264 -0.045069 -0.034354 -0.2113 0.20319 -0.18742 -0.4536 -0.025293 -0.10756 0.064742 -0.08544 -0.071313 0.36076 0.053773 0.16914 -0.2464 -0.21445 -0.30644 -0.18006 0.22109 -0.11438 -0.010556 0.068988 -0.41117 0.13289 0.046673 0.018069 0.051945 0.20228 0.067443 0.030822 0.11851 -0.23825 0.045282 0.69133 0.064864 -0.094094 0.35052 0.12545 0.06546 -0.29863 0.083302 0.19742 -0.12734 -0.32889 -0.19092 0.18617 0.50943 0.063581 0.39675 0.25979 -0.34906 0.22069 0.061467 -0.46078 -0.034462 -0.47021 -0.11147 -0.258 -0.014579 0.46844 0.39351 0.038492 0.18664 -0.26059 0.16372 0.25024 -0.60681 0.3499 0.52742 0.17399 -0.56549 -0.20399 -0.11836 0.10533 0.097468 -0.19671 -0.1706 0.19985 -0.10167 0.06785 0.062124 -0.044855 0.14872 -0.35267 -0.29901 0.37353 0.030043 -0.22273 -0.14803 0.050365 0.44957 0.1198 0.014983 0.085622 -0.46205 -0.18401 0.032761 0.22436 -0.45891 0.14534 0.018781 0.48918 -0.69858 -0.052917 -0.072068 0.055226 0.075715 0.041713 0.051212 0.44928 -0.015492 -0.10754 0.3448 0.22569 -0.31246 0.28845 0.097124 0.025669 0.0033809 0.036448 -0.0018172 -0.00080303 0.38214 0.77736 0.26941 -0.20889 0.22133 -0.37119 0.4647 -0.41923 0.14561 0.16464 -0.4291 0.19614 0.094475 -0.026711 0.071654 0.24051 0.25379 -0.11373 0.31274 -0.01032 0.49012 -0.21832 -0.1849 0.17363 -0.48172 -0.15357 -0.16871 0.147 0.44369 0.23228 0.31012 0.047981 -0.038188 -0.21839 0.2188 0.24127 -0.080272 0.20415 0.39738 0.71274 -0.41749 -0.30263 -0.39002 0.30792 -0.19428 0.23901 -0.44693 0.036759 0.30006 0.18848 -0.021508 -0.05926 -0.24873 -0.010946 0.07416 -0.029406 -0.53706 0.011036 0.41336 -0.01275 -0.0078578 -0.15108 0.345 0.36978 -0.088057 0.075056 -0.14806 0.66407 0.05131 0.0090496 0.19155 -0.35804 0.15795 0.18077 0.0019672 0.011311 -0.033255 -0.11747 -0.011953 -0.069634 0.41548 -0.20388 0.056998 -0.33818 0.27911 -0.005411 0.46381 -0.51347 -0.40341 0.3608 -0.020199 -0.13846 0.11819 -0.10417 0.027841 0.26357 0.32044 -0.064837 0.21001 0.083136 0.41578 -0.26616 -0.24798 0.48006 -0.050683 0.12143 -0.10978 -0.40496 -0.048827 -0.24395 0.023355 0.48217 -0.21792 0.43312 0.31204 -0.11472 0.017943 0.28513 -0.081488 -0.57289 -0.07587 -0.010618 -0.076612 -0.14349 0.017091 0.35695 0.0032987 -0.72288 -0.080825 -0.055001 0.0072328 0.29322 -0.073118 -0.11211 -0.19765 -0.062626 -0.079156 -0.16769 -0.483 0.033109 0.10835 0.16507 0.10543 -0.52462 0.052073 0.046168 -0.15354 -0.12186 -0.29896 0.11422 0.036168 -0.18377 -0.17331 0.1951 0.14036 0.17572 -0.00060394 0.25404 0.09751 -0.45323 -0.06729 0.26496 -0.012777 -0.013024 -0.0035608 -0.0084425 -0.29175 0.52283 -0.11123 0.21186 \n"
          ]
        }
      ]
    },
    {
      "cell_type": "code",
      "metadata": {
        "id": "e15a9f7c"
      },
      "source": [
        "def load_embeddings(path, num_tokens=100_000):\n",
        "    \"\"\"\n",
        "    load_embeddings\n",
        "    \"\"\"\n",
        "    token2index: Dict[str, int] = {\n",
        "        \"PAD\":0,\n",
        "        \"UNK\":1\n",
        "    }\n",
        "    with open(path, \"r\") as file:\n",
        "        vocab_size, emb_dim = file.readline().strip().split()\n",
        "        vocab_size, emb_dim = (int(vocab_size), int(emb_dim))\n",
        "        num_tokens = min(num_tokens, vocab_size)\n",
        "        embeddings = [\n",
        "            np.zeros(emb_dim),\n",
        "            np.ones(emb_dim)\n",
        "        ]\n",
        "        for line in file:\n",
        "            parts = line.strip().split()\n",
        "            token = \" \".join(parts[:-emb_dim]).lower()\n",
        "            embedding = np.array(list(map(float, parts[-emb_dim:])))\n",
        "            if token in token2index:\n",
        "                continue\n",
        "            token2index[token] = len(token2index)\n",
        "            embeddings.append(embedding)\n",
        "            if len(token2index) == num_tokens:\n",
        "                break\n",
        "    embeddings_matrix: np.array = np.array(embeddings)\n",
        "   \n",
        "    assert(len(token2index) == embeddings_matrix.shape[0])\n",
        "    \n",
        "    return token2index, embeddings_matrix\n",
        "\n",
        "token2index, embeddings = load_embeddings(\"wiki.en.vec\")"
      ],
      "id": "e15a9f7c",
      "execution_count": 7,
      "outputs": []
    },
    {
      "cell_type": "markdown",
      "metadata": {
        "id": "c46b2b68"
      },
      "source": [
        "## Загружаем данные из библиотеки\n",
        "Мы сразу получим `torch.utils.data.Dataset`, который сможем передать в `torch.utils.data.DataLoader`"
      ],
      "id": "c46b2b68"
    },
    {
      "cell_type": "code",
      "metadata": {
        "id": "e54fdaa8"
      },
      "source": [
        "dataset_path = \"tweet_eval\"\n",
        "dataset_name = \"sentiment\"\n",
        "\n",
        "train_dataset = load_dataset(path=dataset_path, name=dataset_name, split=\"train\")\n",
        "valid_dataset = load_dataset(path=dataset_path, name=dataset_name, split=\"validation\")\n",
        "test_dataset = load_dataset(path=dataset_path, name=dataset_name, split=\"test\")"
      ],
      "id": "e54fdaa8",
      "execution_count": null,
      "outputs": []
    },
    {
      "cell_type": "code",
      "metadata": {
        "id": "N5dq7F15mVSW"
      },
      "source": [
        "class Dataset(torch.utils.data.Dataset):\n",
        "    def __init__(self,\n",
        "                 texts:List[str],\n",
        "                 targets:List[int],                 \n",
        "                 word2id:Dict[str, str]=token2index,\n",
        "                 MAX_LEN:int=64):\n",
        "        super().__init__()\n",
        "        self.text = [torch.LongTensor([word2id[w] if w in word2id else 1 for w in self.preprocess(t)][:MAX_LEN]) for t in texts]\n",
        "        self.text = torch.nn.utils.rnn.pad_sequence(self.text,\n",
        "                                                    batch_first=True,\n",
        "                                                    padding_value=word2id[\"PAD\"])\n",
        "        self.label = torch.LongTensor(targets)\n",
        "        \n",
        "        self.word2id = word2id\n",
        "        self.MAX_LEN = MAX_LEN\n",
        "        self.length = len(texts)\n",
        "        \n",
        "    def __getitem__(self, item):\n",
        "        ids = self.text[item]\n",
        "        y = self.label[item]\n",
        "        return ids, y\n",
        "    \n",
        "    def __len__(self):\n",
        "        return self.length\n",
        "    \n",
        "    @staticmethod\n",
        "    def preprocess(text):\n",
        "        return re.findall(\"\\w+\", text)"
      ],
      "id": "N5dq7F15mVSW",
      "execution_count": 58,
      "outputs": []
    },
    {
      "cell_type": "code",
      "metadata": {
        "id": "VDbgdQZ6ypjH"
      },
      "source": [
        "new_train_dataset = Dataset(train_dataset[\"text\"], train_dataset[\"label\"])\n",
        "new_valid_dataset = Dataset(valid_dataset[\"text\"], valid_dataset[\"label\"])\n",
        "new_test_dataset = Dataset(test_dataset[\"text\"], test_dataset[\"label\"])"
      ],
      "id": "VDbgdQZ6ypjH",
      "execution_count": 59,
      "outputs": []
    },
    {
      "cell_type": "code",
      "metadata": {
        "id": "40268f8c"
      },
      "source": [
        "train_loader = DataLoader(new_train_dataset, batch_size=128, shuffle=True)\n",
        "valid_loader = DataLoader(new_valid_dataset, batch_size=128, shuffle=False)\n",
        "test_loader = DataLoader(new_test_dataset, batch_size=128, shuffle=False)"
      ],
      "id": "40268f8c",
      "execution_count": 60,
      "outputs": []
    },
    {
      "cell_type": "code",
      "metadata": {
        "id": "d293b759"
      },
      "source": [
        "for x, y in train_loader:\n",
        "    break"
      ],
      "id": "d293b759",
      "execution_count": 15,
      "outputs": []
    },
    {
      "cell_type": "code",
      "metadata": {
        "id": "87752ad7"
      },
      "source": [
        "assert(isinstance(x, torch.Tensor))\n",
        "assert(len(x.size()) == 2)\n",
        "\n",
        "assert(isinstance(y, torch.Tensor))\n",
        "assert(len(y.size()) == 1)"
      ],
      "id": "87752ad7",
      "execution_count": 16,
      "outputs": []
    },
    {
      "cell_type": "code",
      "metadata": {
        "id": "KfE3dvcv410t"
      },
      "source": [
        "device = torch.device(\"cuda\" if torch.cuda.is_available() else \"cpu\")"
      ],
      "id": "KfE3dvcv410t",
      "execution_count": 17,
      "outputs": []
    },
    {
      "cell_type": "markdown",
      "metadata": {
        "id": "ff1f451c"
      },
      "source": [
        "# Я выбрал метрику F1\n",
        "Почему я выбрал эту метрику:  \n",
        "Потому что она подходит для многоклассовой классификации и показывает эффективные результаты даже для задач с большим числом классов."
      ],
      "id": "ff1f451c"
    },
    {
      "cell_type": "code",
      "metadata": {
        "id": "da42260c"
      },
      "source": [
        "class DeepAverageNetwork(nn.Module):\n",
        "    def __init__(self,\n",
        "                 word2id:Dict[str, int] = token2index,\n",
        "                 embedding_dim = 300,\n",
        "                 output_dim:int = 3,\n",
        "                 embeds:torch.Tensor = torch.Tensor(embeddings)):\n",
        "        \n",
        "        super().__init__()\n",
        "        self.EMB_DIM = embedding_dim\n",
        "        self.VOCAB_SIZE = len(word2id)\n",
        "        self.OUT_DIM = output_dim\n",
        "\n",
        "        self.embeds = nn.Embedding(self.VOCAB_SIZE, self.EMB_DIM).from_pretrained(embeds)\n",
        "        self.linear1 = nn.Linear(self.EMB_DIM, self.EMB_DIM)\n",
        "        self.linear2 = nn.Linear(self.EMB_DIM, self.EMB_DIM)\n",
        "        self.hidden = nn.Linear(self.EMB_DIM, self.OUT_DIM)\n",
        "        self.relu = nn.ReLU()\n",
        "        # self.batchnorm = nn.BatchNorm1d(self.EMB_DIM)\n",
        "        # self.dropout = nn.Dropout(0.05)\n",
        "        self.act = nn.LogSoftmax(1)\n",
        "\n",
        "    def forward(self, text):\n",
        "        embedded = self.embeds(text)\n",
        "        mean = torch.mean(embedded, dim=1).float()\n",
        "        linear1 = self.relu(self.linear1(mean))\n",
        "        linear2 = self.relu(self.linear2(linear1))\n",
        "        hidden = self.hidden(linear2)\n",
        "        return self.act(hidden)"
      ],
      "id": "da42260c",
      "execution_count": 87,
      "outputs": []
    },
    {
      "cell_type": "code",
      "metadata": {
        "id": "7966f715"
      },
      "source": [
        "model = DeepAverageNetwork(output_dim=3,\n",
        "                           embeds=torch.Tensor(embeddings))"
      ],
      "id": "7966f715",
      "execution_count": 88,
      "outputs": []
    },
    {
      "cell_type": "markdown",
      "metadata": {
        "id": "5efad1d1"
      },
      "source": [
        "## Задайте функцию потерь и оптимизатор"
      ],
      "id": "5efad1d1"
    },
    {
      "cell_type": "code",
      "metadata": {
        "id": "34c552fa"
      },
      "source": [
        "# loss = nn.CrossEntropyLoss().to(device)\n",
        "loss = nn.NLLLoss().to(device)\n",
        "optimizer = torch.optim.Adam(model.parameters(), lr=0.001)\n",
        "model = model.to(device)"
      ],
      "id": "34c552fa",
      "execution_count": 89,
      "outputs": []
    },
    {
      "cell_type": "markdown",
      "metadata": {
        "id": "628847fe"
      },
      "source": [
        "## Сделайте цикл обучения"
      ],
      "id": "628847fe"
    },
    {
      "cell_type": "code",
      "metadata": {
        "id": "IHg6Z6mFFwvT"
      },
      "source": [
        "def train(model:nn.Module,\n",
        "          iterator:torch.utils.data.DataLoader,\n",
        "          optimizer:torch.optim.Optimizer,\n",
        "          loss_fn:nn.modules.loss._Loss,\n",
        "          print_every:int=1000):\n",
        "    \n",
        "    epoch_loss:List[float] = []\n",
        "    epoch_f1:List[float] = []\n",
        "    model.train()\n",
        "    \n",
        "    for i, (texts, ys) in enumerate(iterator):\n",
        "        optimizer.zero_grad()\n",
        "        predictions = model(texts.to(device)).squeeze()\n",
        "        loss = loss_fn(predictions, ys.to(device))\n",
        "        \n",
        "        loss.backward()\n",
        "        optimizer.step()\n",
        "        preds = predictions.detach().to('cpu').numpy().argmax(1).tolist()\n",
        "        y_true = ys.tolist()\n",
        "        \n",
        "        epoch_loss.append(loss.item())\n",
        "        epoch_f1.append(f1_score(y_true, preds, average=\"micro\"))\n",
        "        \n",
        "        if not (i + 1) % print_every:\n",
        "            print(f\"loss: {np.mean(epoch_loss)}; F1: {np.mean(epoch_f1)}\")\n",
        "    return np.mean(epoch_f1)\n",
        "    \n",
        "def evaluate(model:nn.Module,\n",
        "             iterator:torch.utils.data.DataLoader,\n",
        "             loss_fn:torch.nn.modules.loss._Loss):\n",
        "    \n",
        "    epoch_loss:list = []\n",
        "    epoch_f1:list = []\n",
        "        \n",
        "    model.eval()\n",
        "    with torch.no_grad():\n",
        "        for texts, ys in iterator:\n",
        "            predictions = model(texts.to(device)).squeeze()\n",
        "            loss = loss_fn(predictions, ys.to(device))\n",
        "            preds = predictions.detach().to(\"cpu\").numpy().argmax(1).tolist()\n",
        "            y_true = ys.tolist()\n",
        "            \n",
        "            epoch_loss.append(loss.item())\n",
        "            epoch_f1.append(f1_score(y_true, preds, average=\"micro\"))\n",
        "    return np.mean(epoch_f1)"
      ],
      "id": "IHg6Z6mFFwvT",
      "execution_count": 65,
      "outputs": []
    },
    {
      "cell_type": "code",
      "metadata": {
        "id": "b634b9ce",
        "colab": {
          "base_uri": "https://localhost:8080/"
        },
        "outputId": "81daac0a-4741-43a5-f7ff-72966e18745f"
      },
      "source": [
        "f1s = []\n",
        "f1s_eval = []\n",
        "\n",
        "NUM_EPOCHS = 50  \n",
        "\n",
        "for n_epoch in tqdm(range(NUM_EPOCHS)):\n",
        "    print(f\"\\nEpoch #{str(n_epoch + 1)}:\")\n",
        "    f1s.append(train(model, train_loader, optimizer, loss))\n",
        "    ev = evaluate(model, valid_loader, loss)\n",
        "    print(\"\\nMean F1 score: \", ev)\n",
        "    f1s_eval.append(ev)"
      ],
      "id": "b634b9ce",
      "execution_count": 90,
      "outputs": [
        {
          "output_type": "stream",
          "name": "stderr",
          "text": [
            "\r  0%|          | 0/50 [00:00<?, ?it/s]"
          ]
        },
        {
          "output_type": "stream",
          "name": "stdout",
          "text": [
            "\n",
            "Epoch #1:\n"
          ]
        },
        {
          "output_type": "stream",
          "name": "stderr",
          "text": [
            "\r  2%|▏         | 1/50 [00:03<02:51,  3.50s/it]"
          ]
        },
        {
          "output_type": "stream",
          "name": "stdout",
          "text": [
            "\n",
            "Mean F1 score:  0.4474609375\n",
            "\n",
            "Epoch #2:\n"
          ]
        },
        {
          "output_type": "stream",
          "name": "stderr",
          "text": [
            "\r  4%|▍         | 2/50 [00:06<02:47,  3.49s/it]"
          ]
        },
        {
          "output_type": "stream",
          "name": "stdout",
          "text": [
            "\n",
            "Mean F1 score:  0.52978515625\n",
            "\n",
            "Epoch #3:\n"
          ]
        },
        {
          "output_type": "stream",
          "name": "stderr",
          "text": [
            "\r  6%|▌         | 3/50 [00:11<02:57,  3.78s/it]"
          ]
        },
        {
          "output_type": "stream",
          "name": "stdout",
          "text": [
            "\n",
            "Mean F1 score:  0.51572265625\n",
            "\n",
            "Epoch #4:\n"
          ]
        },
        {
          "output_type": "stream",
          "name": "stderr",
          "text": [
            "\r  8%|▊         | 4/50 [00:15<03:00,  3.93s/it]"
          ]
        },
        {
          "output_type": "stream",
          "name": "stdout",
          "text": [
            "\n",
            "Mean F1 score:  0.56845703125\n",
            "\n",
            "Epoch #5:\n"
          ]
        },
        {
          "output_type": "stream",
          "name": "stderr",
          "text": [
            "\r 10%|█         | 5/50 [00:19<03:01,  4.02s/it]"
          ]
        },
        {
          "output_type": "stream",
          "name": "stdout",
          "text": [
            "\n",
            "Mean F1 score:  0.57255859375\n",
            "\n",
            "Epoch #6:\n"
          ]
        },
        {
          "output_type": "stream",
          "name": "stderr",
          "text": [
            "\r 12%|█▏        | 6/50 [00:23<02:59,  4.08s/it]"
          ]
        },
        {
          "output_type": "stream",
          "name": "stdout",
          "text": [
            "\n",
            "Mean F1 score:  0.5509765625\n",
            "\n",
            "Epoch #7:\n"
          ]
        },
        {
          "output_type": "stream",
          "name": "stderr",
          "text": [
            "\r 14%|█▍        | 7/50 [00:27<02:56,  4.11s/it]"
          ]
        },
        {
          "output_type": "stream",
          "name": "stdout",
          "text": [
            "\n",
            "Mean F1 score:  0.555078125\n",
            "\n",
            "Epoch #8:\n"
          ]
        },
        {
          "output_type": "stream",
          "name": "stderr",
          "text": [
            "\r 16%|█▌        | 8/50 [00:32<02:54,  4.16s/it]"
          ]
        },
        {
          "output_type": "stream",
          "name": "stdout",
          "text": [
            "\n",
            "Mean F1 score:  0.5759765625\n",
            "\n",
            "Epoch #9:\n"
          ]
        },
        {
          "output_type": "stream",
          "name": "stderr",
          "text": [
            "\r 18%|█▊        | 9/50 [00:36<02:52,  4.21s/it]"
          ]
        },
        {
          "output_type": "stream",
          "name": "stdout",
          "text": [
            "\n",
            "Mean F1 score:  0.5638671875\n",
            "\n",
            "Epoch #10:\n"
          ]
        },
        {
          "output_type": "stream",
          "name": "stderr",
          "text": [
            "\r 20%|██        | 10/50 [00:40<02:48,  4.21s/it]"
          ]
        },
        {
          "output_type": "stream",
          "name": "stdout",
          "text": [
            "\n",
            "Mean F1 score:  0.58095703125\n",
            "\n",
            "Epoch #11:\n"
          ]
        },
        {
          "output_type": "stream",
          "name": "stderr",
          "text": [
            "\r 22%|██▏       | 11/50 [00:44<02:43,  4.20s/it]"
          ]
        },
        {
          "output_type": "stream",
          "name": "stdout",
          "text": [
            "\n",
            "Mean F1 score:  0.5728515625\n",
            "\n",
            "Epoch #12:\n"
          ]
        },
        {
          "output_type": "stream",
          "name": "stderr",
          "text": [
            "\r 24%|██▍       | 12/50 [00:49<02:39,  4.21s/it]"
          ]
        },
        {
          "output_type": "stream",
          "name": "stdout",
          "text": [
            "\n",
            "Mean F1 score:  0.5890625\n",
            "\n",
            "Epoch #13:\n"
          ]
        },
        {
          "output_type": "stream",
          "name": "stderr",
          "text": [
            "\r 26%|██▌       | 13/50 [00:53<02:36,  4.23s/it]"
          ]
        },
        {
          "output_type": "stream",
          "name": "stdout",
          "text": [
            "\n",
            "Mean F1 score:  0.58974609375\n",
            "\n",
            "Epoch #14:\n"
          ]
        },
        {
          "output_type": "stream",
          "name": "stderr",
          "text": [
            "\r 28%|██▊       | 14/50 [00:57<02:32,  4.24s/it]"
          ]
        },
        {
          "output_type": "stream",
          "name": "stdout",
          "text": [
            "\n",
            "Mean F1 score:  0.5828125\n",
            "\n",
            "Epoch #15:\n"
          ]
        },
        {
          "output_type": "stream",
          "name": "stderr",
          "text": [
            "\r 30%|███       | 15/50 [01:01<02:28,  4.24s/it]"
          ]
        },
        {
          "output_type": "stream",
          "name": "stdout",
          "text": [
            "\n",
            "Mean F1 score:  0.58466796875\n",
            "\n",
            "Epoch #16:\n"
          ]
        },
        {
          "output_type": "stream",
          "name": "stderr",
          "text": [
            "\r 32%|███▏      | 16/50 [01:06<02:24,  4.25s/it]"
          ]
        },
        {
          "output_type": "stream",
          "name": "stdout",
          "text": [
            "\n",
            "Mean F1 score:  0.586328125\n",
            "\n",
            "Epoch #17:\n"
          ]
        },
        {
          "output_type": "stream",
          "name": "stderr",
          "text": [
            "\r 34%|███▍      | 17/50 [01:10<02:21,  4.28s/it]"
          ]
        },
        {
          "output_type": "stream",
          "name": "stdout",
          "text": [
            "\n",
            "Mean F1 score:  0.57861328125\n",
            "\n",
            "Epoch #18:\n"
          ]
        },
        {
          "output_type": "stream",
          "name": "stderr",
          "text": [
            "\r 36%|███▌      | 18/50 [01:14<02:16,  4.26s/it]"
          ]
        },
        {
          "output_type": "stream",
          "name": "stdout",
          "text": [
            "\n",
            "Mean F1 score:  0.59755859375\n",
            "\n",
            "Epoch #19:\n"
          ]
        },
        {
          "output_type": "stream",
          "name": "stderr",
          "text": [
            "\r 38%|███▊      | 19/50 [01:18<02:11,  4.24s/it]"
          ]
        },
        {
          "output_type": "stream",
          "name": "stdout",
          "text": [
            "\n",
            "Mean F1 score:  0.586328125\n",
            "\n",
            "Epoch #20:\n"
          ]
        },
        {
          "output_type": "stream",
          "name": "stderr",
          "text": [
            "\r 40%|████      | 20/50 [01:23<02:07,  4.25s/it]"
          ]
        },
        {
          "output_type": "stream",
          "name": "stdout",
          "text": [
            "\n",
            "Mean F1 score:  0.58740234375\n",
            "\n",
            "Epoch #21:\n"
          ]
        },
        {
          "output_type": "stream",
          "name": "stderr",
          "text": [
            "\r 42%|████▏     | 21/50 [01:27<02:04,  4.29s/it]"
          ]
        },
        {
          "output_type": "stream",
          "name": "stdout",
          "text": [
            "\n",
            "Mean F1 score:  0.5837890625\n",
            "\n",
            "Epoch #22:\n"
          ]
        },
        {
          "output_type": "stream",
          "name": "stderr",
          "text": [
            "\r 44%|████▍     | 22/50 [01:31<01:59,  4.28s/it]"
          ]
        },
        {
          "output_type": "stream",
          "name": "stdout",
          "text": [
            "\n",
            "Mean F1 score:  0.5845703125\n",
            "\n",
            "Epoch #23:\n"
          ]
        },
        {
          "output_type": "stream",
          "name": "stderr",
          "text": [
            "\r 46%|████▌     | 23/50 [01:35<01:54,  4.26s/it]"
          ]
        },
        {
          "output_type": "stream",
          "name": "stdout",
          "text": [
            "\n",
            "Mean F1 score:  0.59072265625\n",
            "\n",
            "Epoch #24:\n"
          ]
        },
        {
          "output_type": "stream",
          "name": "stderr",
          "text": [
            "\r 48%|████▊     | 24/50 [01:40<01:50,  4.27s/it]"
          ]
        },
        {
          "output_type": "stream",
          "name": "stdout",
          "text": [
            "\n",
            "Mean F1 score:  0.5775390625\n",
            "\n",
            "Epoch #25:\n"
          ]
        },
        {
          "output_type": "stream",
          "name": "stderr",
          "text": [
            "\r 50%|█████     | 25/50 [01:44<01:46,  4.25s/it]"
          ]
        },
        {
          "output_type": "stream",
          "name": "stdout",
          "text": [
            "\n",
            "Mean F1 score:  0.55537109375\n",
            "\n",
            "Epoch #26:\n"
          ]
        },
        {
          "output_type": "stream",
          "name": "stderr",
          "text": [
            "\r 52%|█████▏    | 26/50 [01:48<01:41,  4.24s/it]"
          ]
        },
        {
          "output_type": "stream",
          "name": "stdout",
          "text": [
            "\n",
            "Mean F1 score:  0.59326171875\n",
            "\n",
            "Epoch #27:\n"
          ]
        },
        {
          "output_type": "stream",
          "name": "stderr",
          "text": [
            "\r 54%|█████▍    | 27/50 [01:52<01:37,  4.23s/it]"
          ]
        },
        {
          "output_type": "stream",
          "name": "stdout",
          "text": [
            "\n",
            "Mean F1 score:  0.57490234375\n",
            "\n",
            "Epoch #28:\n"
          ]
        },
        {
          "output_type": "stream",
          "name": "stderr",
          "text": [
            "\r 56%|█████▌    | 28/50 [01:57<01:33,  4.26s/it]"
          ]
        },
        {
          "output_type": "stream",
          "name": "stdout",
          "text": [
            "\n",
            "Mean F1 score:  0.59453125\n",
            "\n",
            "Epoch #29:\n"
          ]
        },
        {
          "output_type": "stream",
          "name": "stderr",
          "text": [
            "\r 58%|█████▊    | 29/50 [02:01<01:28,  4.24s/it]"
          ]
        },
        {
          "output_type": "stream",
          "name": "stdout",
          "text": [
            "\n",
            "Mean F1 score:  0.584765625\n",
            "\n",
            "Epoch #30:\n"
          ]
        },
        {
          "output_type": "stream",
          "name": "stderr",
          "text": [
            "\r 60%|██████    | 30/50 [02:05<01:24,  4.24s/it]"
          ]
        },
        {
          "output_type": "stream",
          "name": "stdout",
          "text": [
            "\n",
            "Mean F1 score:  0.5978515625\n",
            "\n",
            "Epoch #31:\n"
          ]
        },
        {
          "output_type": "stream",
          "name": "stderr",
          "text": [
            "\r 62%|██████▏   | 31/50 [02:09<01:20,  4.24s/it]"
          ]
        },
        {
          "output_type": "stream",
          "name": "stdout",
          "text": [
            "\n",
            "Mean F1 score:  0.5939453125\n",
            "\n",
            "Epoch #32:\n"
          ]
        },
        {
          "output_type": "stream",
          "name": "stderr",
          "text": [
            "\r 64%|██████▍   | 32/50 [02:14<01:16,  4.24s/it]"
          ]
        },
        {
          "output_type": "stream",
          "name": "stdout",
          "text": [
            "\n",
            "Mean F1 score:  0.5765625\n",
            "\n",
            "Epoch #33:\n"
          ]
        },
        {
          "output_type": "stream",
          "name": "stderr",
          "text": [
            "\r 66%|██████▌   | 33/50 [02:18<01:12,  4.25s/it]"
          ]
        },
        {
          "output_type": "stream",
          "name": "stdout",
          "text": [
            "\n",
            "Mean F1 score:  0.59365234375\n",
            "\n",
            "Epoch #34:\n"
          ]
        },
        {
          "output_type": "stream",
          "name": "stderr",
          "text": [
            "\r 68%|██████▊   | 34/50 [02:22<01:07,  4.22s/it]"
          ]
        },
        {
          "output_type": "stream",
          "name": "stdout",
          "text": [
            "\n",
            "Mean F1 score:  0.58583984375\n",
            "\n",
            "Epoch #35:\n"
          ]
        },
        {
          "output_type": "stream",
          "name": "stderr",
          "text": [
            "\r 70%|███████   | 35/50 [02:26<01:04,  4.28s/it]"
          ]
        },
        {
          "output_type": "stream",
          "name": "stdout",
          "text": [
            "\n",
            "Mean F1 score:  0.5845703125\n",
            "\n",
            "Epoch #36:\n"
          ]
        },
        {
          "output_type": "stream",
          "name": "stderr",
          "text": [
            "\r 72%|███████▏  | 36/50 [02:31<00:59,  4.27s/it]"
          ]
        },
        {
          "output_type": "stream",
          "name": "stdout",
          "text": [
            "\n",
            "Mean F1 score:  0.60205078125\n",
            "\n",
            "Epoch #37:\n"
          ]
        },
        {
          "output_type": "stream",
          "name": "stderr",
          "text": [
            "\r 74%|███████▍  | 37/50 [02:35<00:55,  4.24s/it]"
          ]
        },
        {
          "output_type": "stream",
          "name": "stdout",
          "text": [
            "\n",
            "Mean F1 score:  0.598828125\n",
            "\n",
            "Epoch #38:\n"
          ]
        },
        {
          "output_type": "stream",
          "name": "stderr",
          "text": [
            "\r 76%|███████▌  | 38/50 [02:39<00:50,  4.24s/it]"
          ]
        },
        {
          "output_type": "stream",
          "name": "stdout",
          "text": [
            "\n",
            "Mean F1 score:  0.58798828125\n",
            "\n",
            "Epoch #39:\n"
          ]
        },
        {
          "output_type": "stream",
          "name": "stderr",
          "text": [
            "\r 78%|███████▊  | 39/50 [02:43<00:46,  4.24s/it]"
          ]
        },
        {
          "output_type": "stream",
          "name": "stdout",
          "text": [
            "\n",
            "Mean F1 score:  0.58828125\n",
            "\n",
            "Epoch #40:\n"
          ]
        },
        {
          "output_type": "stream",
          "name": "stderr",
          "text": [
            "\r 80%|████████  | 40/50 [02:48<00:42,  4.24s/it]"
          ]
        },
        {
          "output_type": "stream",
          "name": "stdout",
          "text": [
            "\n",
            "Mean F1 score:  0.5841796875\n",
            "\n",
            "Epoch #41:\n"
          ]
        },
        {
          "output_type": "stream",
          "name": "stderr",
          "text": [
            "\r 82%|████████▏ | 41/50 [02:52<00:38,  4.23s/it]"
          ]
        },
        {
          "output_type": "stream",
          "name": "stdout",
          "text": [
            "\n",
            "Mean F1 score:  0.58408203125\n",
            "\n",
            "Epoch #42:\n"
          ]
        },
        {
          "output_type": "stream",
          "name": "stderr",
          "text": [
            "\r 84%|████████▍ | 42/50 [02:56<00:33,  4.24s/it]"
          ]
        },
        {
          "output_type": "stream",
          "name": "stdout",
          "text": [
            "\n",
            "Mean F1 score:  0.59873046875\n",
            "\n",
            "Epoch #43:\n"
          ]
        },
        {
          "output_type": "stream",
          "name": "stderr",
          "text": [
            "\r 86%|████████▌ | 43/50 [03:00<00:29,  4.23s/it]"
          ]
        },
        {
          "output_type": "stream",
          "name": "stdout",
          "text": [
            "\n",
            "Mean F1 score:  0.5751953125\n",
            "\n",
            "Epoch #44:\n"
          ]
        },
        {
          "output_type": "stream",
          "name": "stderr",
          "text": [
            "\r 88%|████████▊ | 44/50 [03:04<00:25,  4.23s/it]"
          ]
        },
        {
          "output_type": "stream",
          "name": "stdout",
          "text": [
            "\n",
            "Mean F1 score:  0.59609375\n",
            "\n",
            "Epoch #45:\n"
          ]
        },
        {
          "output_type": "stream",
          "name": "stderr",
          "text": [
            "\r 90%|█████████ | 45/50 [03:09<00:21,  4.24s/it]"
          ]
        },
        {
          "output_type": "stream",
          "name": "stdout",
          "text": [
            "\n",
            "Mean F1 score:  0.60185546875\n",
            "\n",
            "Epoch #46:\n"
          ]
        },
        {
          "output_type": "stream",
          "name": "stderr",
          "text": [
            "\r 92%|█████████▏| 46/50 [03:13<00:16,  4.24s/it]"
          ]
        },
        {
          "output_type": "stream",
          "name": "stdout",
          "text": [
            "\n",
            "Mean F1 score:  0.58369140625\n",
            "\n",
            "Epoch #47:\n"
          ]
        },
        {
          "output_type": "stream",
          "name": "stderr",
          "text": [
            "\r 94%|█████████▍| 47/50 [03:17<00:12,  4.24s/it]"
          ]
        },
        {
          "output_type": "stream",
          "name": "stdout",
          "text": [
            "\n",
            "Mean F1 score:  0.563671875\n",
            "\n",
            "Epoch #48:\n"
          ]
        },
        {
          "output_type": "stream",
          "name": "stderr",
          "text": [
            "\r 96%|█████████▌| 48/50 [03:21<00:08,  4.23s/it]"
          ]
        },
        {
          "output_type": "stream",
          "name": "stdout",
          "text": [
            "\n",
            "Mean F1 score:  0.5978515625\n",
            "\n",
            "Epoch #49:\n"
          ]
        },
        {
          "output_type": "stream",
          "name": "stderr",
          "text": [
            "\r 98%|█████████▊| 49/50 [03:26<00:04,  4.25s/it]"
          ]
        },
        {
          "output_type": "stream",
          "name": "stdout",
          "text": [
            "\n",
            "Mean F1 score:  0.59345703125\n",
            "\n",
            "Epoch #50:\n"
          ]
        },
        {
          "output_type": "stream",
          "name": "stderr",
          "text": [
            "100%|██████████| 50/50 [03:30<00:00,  4.21s/it]"
          ]
        },
        {
          "output_type": "stream",
          "name": "stdout",
          "text": [
            "\n",
            "Mean F1 score:  0.57333984375\n"
          ]
        },
        {
          "output_type": "stream",
          "name": "stderr",
          "text": [
            "\n"
          ]
        }
      ]
    },
    {
      "cell_type": "code",
      "metadata": {
        "id": "xgAGGxcjtBXh",
        "outputId": "a114f008-8f17-49ce-e5ab-0b779850517a",
        "colab": {
          "base_uri": "https://localhost:8080/",
          "height": 295
        }
      },
      "source": [
        "plt.figure()\n",
        "plt.plot(f1s, label='train score')\n",
        "plt.plot(f1s_eval, label='validation score')\n",
        "plt.legend()\n",
        "plt.grid()\n",
        "plt.title('Training')\n",
        "plt.xlabel('Epochs')\n",
        "plt.ylabel('F1 Loss');"
      ],
      "id": "xgAGGxcjtBXh",
      "execution_count": 91,
      "outputs": [
        {
          "output_type": "display_data",
          "data": {
            "image/png": "[encoded data removed]",
            "text/plain": [
              "<Figure size 432x288 with 1 Axes>"
            ]
          },
          "metadata": {
            "needs_background": "light"
          }
        }
      ]
    },
    {
      "cell_type": "code",
      "metadata": {
        "id": "_UfdMUG6t5nX"
      },
      "source": [
        "def infer(model:nn.Module,\n",
        "             iterator:torch.utils.data.DataLoader):\n",
        "    \n",
        "    answers:list = []\n",
        "    true_answers:list = []\n",
        "        \n",
        "    model.eval()\n",
        "    with torch.no_grad():\n",
        "        for texts, ys in iterator:\n",
        "            predictions = model(texts.to(device))\n",
        "            preds = predictions.detach().to(\"cpu\").numpy().argmax(1).tolist()\n",
        "            y_true = ys.tolist()\n",
        "            answers.extend(preds)\n",
        "            true_answers.extend(y_true)\n",
        "    return answers, true_answers"
      ],
      "id": "_UfdMUG6t5nX",
      "execution_count": 102,
      "outputs": []
    },
    {
      "cell_type": "code",
      "metadata": {
        "id": "vGofpzxsvOSI"
      },
      "source": [
        "y_pred, y_true = infer(model, test_loader)"
      ],
      "id": "vGofpzxsvOSI",
      "execution_count": 103,
      "outputs": []
    },
    {
      "cell_type": "code",
      "metadata": {
        "id": "_HZiARfmtqaf",
        "outputId": "d6e71abe-59a2-40f2-ec8a-d041d5ef2c69",
        "colab": {
          "base_uri": "https://localhost:8080/"
        }
      },
      "source": [
        "print(classification_report(y_true, y_pred))"
      ],
      "id": "_HZiARfmtqaf",
      "execution_count": 112,
      "outputs": [
        {
          "output_type": "stream",
          "name": "stdout",
          "text": [
            "              precision    recall  f1-score   support\n",
            "\n",
            "           0       0.62      0.57      0.59      3972\n",
            "           1       0.60      0.74      0.67      5937\n",
            "           2       0.62      0.35      0.45      2375\n",
            "\n",
            "    accuracy                           0.61     12284\n",
            "   macro avg       0.61      0.55      0.57     12284\n",
            "weighted avg       0.61      0.61      0.60     12284\n",
            "\n"
          ]
        }
      ]
    },
    {
      "cell_type": "code",
      "metadata": {
        "id": "ErNGRoJmtb-d",
        "outputId": "d68b9960-3399-401a-ae90-1101dd6cfce3",
        "colab": {
          "base_uri": "https://localhost:8080/",
          "height": 478
        }
      },
      "source": [
        "from sklearn.metrics import confusion_matrix\n",
        "conf_matrix = confusion_matrix(y_true, y_pred)\n",
        "\n",
        "fig, ax = plt.subplots(figsize=(7.5, 7.5))\n",
        "ax.matshow(conf_matrix, alpha=0.3)\n",
        "for i in range(conf_matrix.shape[0]):\n",
        "    for j in range(conf_matrix.shape[1]):\n",
        "        ax.text(x=j, y=i,s=conf_matrix[i, j], va='center', ha='center')\n",
        " \n",
        "plt.xlabel('Predicted_values', fontsize=18)\n",
        "plt.ylabel('True_values', fontsize=18)\n",
        "plt.show()"
      ],
      "id": "ErNGRoJmtb-d",
      "execution_count": 116,
      "outputs": [
        {
          "output_type": "display_data",
          "data": {
            "image/png": "[encoded data removed]",
            "text/plain": [
              "<Figure size 540x540 with 1 Axes>"
            ]
          },
          "metadata": {
            "needs_background": "light"
          }
        }
      ]
    },
    {
      "cell_type": "markdown",
      "metadata": {
        "id": "W9yIh56OyPWl"
      },
      "source": [
        "\n",
        "Что в модели можно улучшить? Суммировать векторы по рассчитанному на корпусе tf-idf слов.\n",
        "\n",
        "Все ли хорошо с моими данными? В неформальной речи из твиттера преобладают редкие слова, которые при малом размере словаря уходят в UNK. Классы несбалансированные.\n",
        "\n",
        "Нужно ли поменять токенизацию или эмбеддинги? С векторами BERT и BERT-токенизацией возможно улучшение результатов.\n",
        "\n",
        "Какие типичные ошибки у моей модели? 2 класс (negative) плохо определяется, часто ответ уходит в Neutral. Это может быть связано с малым размером словаря, который не вмещает ругательств.\n",
        "\n",
        "Как я могу их исправить? Использовать BERT + фокус с усреднением по tf-idf. "
      ],
      "id": "W9yIh56OyPWl"
    },
    {
      "cell_type": "code",
      "metadata": {
        "id": "c3ad7f80"
      },
      "source": [
        ""
      ],
      "id": "c3ad7f80",
      "execution_count": null,
      "outputs": []
    }
  ]
}