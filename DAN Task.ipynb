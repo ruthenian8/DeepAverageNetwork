{
  "nbformat": 4,
  "nbformat_minor": 5,
  "metadata": {
    "kernelspec": {
      "display_name": "Python 3",
      "language": "python",
      "name": "python3"
    },
    "language_info": {
      "codemirror_mode": {
        "name": "ipython",
        "version": 3
      },
      "file_extension": ".py",
      "mimetype": "text/x-python",
      "name": "python",
      "nbconvert_exporter": "python",
      "pygments_lexer": "ipython3",
      "version": "3.8.10"
    },
    "colab": {
      "name": "DAN Task.ipynb",
      "provenance": []
    }
  },
  "cells": [
    {
      "cell_type": "code",
      "metadata": {
        "id": "7f9c64fb"
      },
      "source": [
        "from typing import Dict, List\n",
        "\n",
        "import matplotlib.pyplot as plt\n",
        "import numpy as np\n",
        "import pandas as pd\n",
        "import seaborn as sns\n",
        "import torch\n",
        "\n",
        "from datasets import load_dataset\n",
        "from nltk.tokenize import ToktokTokenizer\n",
        "from sklearn.metrics import f1_score\n",
        "from torch import nn\n",
        "from torch.utils.data import DataLoader\n",
        "from tqdm import tqdm"
      ],
      "id": "7f9c64fb",
      "execution_count": null,
      "outputs": []
    },
    {
      "cell_type": "markdown",
      "metadata": {
        "id": "102d7074"
      },
      "source": [
        "# Deep Average Network для определения сентимента "
      ],
      "id": "102d7074"
    },
    {
      "cell_type": "markdown",
      "metadata": {
        "id": "46d972fe"
      },
      "source": [
        "В этой домашке мы будет классифицировать твиты на 3 тональности.  \n",
        "Вы будете использовать предобученные эмбеддинги слов, так что для начала обязательно нужно посмотреть [туториал по их использованию](https://github.com/BobaZooba/DeepNLP/blob/master/Tutorials/Word%20vectors%20%26%20Data%20Loading.ipynb).\n",
        "\n",
        "Наши классы:  \n",
        "\n",
        "Индекс | Sentiment  \n",
        "-- | --  \n",
        "0 | negative  \n",
        "1 | neutral  \n",
        "2 | positive  "
      ],
      "id": "46d972fe"
    },
    {
      "cell_type": "markdown",
      "metadata": {
        "id": "55010212"
      },
      "source": [
        "Вам предстоит реализовать такую модель:\n",
        "![Архитектура модели DAN](https://www.researchgate.net/profile/Shervin-Minaee/publication/340523298/figure/fig1/AS:878252264550411@1586403065555/The-architecture-of-the-Deep-Average-Network-DAN-10.ppm)\n",
        "\n",
        "Что она из себя представляет:\n",
        "- Мы подаем в нее индексы слов\n",
        "- Переводим индексы слов в эмбеддинги\n",
        "- Усредняем эмбеддинги\n",
        "- Пропускаем усредненные эмбеддинги через `Multilayer Perceptron`\n",
        "\n",
        "В этой домашке вам предстоит:\n",
        "- Перевести тексты в матрицы с индексами токенов\n",
        "- Реализовать модель\n",
        "- Обучить ее\n",
        "- Понять хорошо ли вы это сделали\n",
        "\n",
        "Это очень важная модель, потому что она очень простая и показывает достаточно высокие метрики. В дальнейшем на работе советую использовать такую модель как бейзлайн. И в качестве эмбеддингов слов взять эмбеддинги от берта/роберты/тд."
      ],
      "id": "55010212"
    },
    {
      "cell_type": "markdown",
      "metadata": {
        "id": "65faf753"
      },
      "source": [
        "## 🤗 Datasets\n",
        "В этом туториале мы будем использовать подготовленные данные из библиотеки [datasets](https://github.com/huggingface/datasets). Мы вряд ли еще будем пользоваться этой библиотекой, так как нам будет важно самим подготавливать данные. Во-первых, для простоты, во-вторых, здесь есть достаточно неплохие практики. [Здесь](https://huggingface.co/datasets) вы сможете найти достаточно большое количество различных датасетов. Возможно, когда-нибудь они вам пригодятся."
      ],
      "id": "65faf753"
    },
    {
      "cell_type": "markdown",
      "metadata": {
        "id": "5927f02a"
      },
      "source": [
        "## Загрузите эмбеддинги слов\n",
        "Реализуйте функцию по загрузке эмбеддингов из файла. Она должна отдавать словарь слов и `np.array`\n",
        "Формат словаря:\n",
        "```python\n",
        "{\n",
        "    'aabra': 0,\n",
        "    ...,\n",
        "    'mom': 6546,\n",
        "    ...\n",
        "    'xyz': 100355\n",
        "}\n",
        "```\n",
        "Формат матрицы эмбеддингов:\n",
        "```python\n",
        "array([[0.44442278, 0.28644582, 0.04357426, ..., 0.9425766 , 0.02024289,\n",
        "        0.88456545],\n",
        "       [0.77599317, 0.35188237, 0.54801261, ..., 0.91134102, 0.88599103,\n",
        "        0.88068835],\n",
        "       [0.68071886, 0.29352313, 0.95952505, ..., 0.19127958, 0.97723054,\n",
        "        0.36294011],\n",
        "       ...,\n",
        "       [0.03589378, 0.85429694, 0.33437761, ..., 0.39784873, 0.80368014,\n",
        "        0.76368042],\n",
        "       [0.01498725, 0.78155695, 0.80372969, ..., 0.82051826, 0.42314861,\n",
        "        0.18655465],\n",
        "       [0.69263802, 0.82090775, 0.27150426, ..., 0.86582747, 0.40896573,\n",
        "        0.33423976]])\n",
        "```\n",
        "\n",
        "Количество строк в матрице эмбеддингов должно совпадать с размером словаря, то есть для каждого токена должен быть свой эмбеддинг. По параметру `num_tokens` должно брать не более указано в этом параметре количество токенов в словарь и матрицу эмбеддингов."
      ],
      "id": "5927f02a"
    },
    {
      "cell_type": "code",
      "metadata": {
        "id": "e15a9f7c"
      },
      "source": [
        "def load_embeddings(path, num_tokens=100_000):\n",
        "    \"\"\"\n",
        "    load_embeddings\n",
        "    \"\"\"\n",
        "    token2index: Dict[str, int] = {\n",
        "        \"PAD\":0,\n",
        "        \"UNK\":1\n",
        "    }\n",
        "    with open(path, \"r\") as file:\n",
        "        vocab_size, emb_dim = file.readline().strip().split()\n",
        "        vocab_size, emb_dim = (int(vocab_size), int(emb_dim))\n",
        "        num_tokens = min(num_tokens, vocab_size)\n",
        "        embeddings = [\n",
        "            np.zeros(emb_dim),\n",
        "            np.ones(emb_dim)\n",
        "        ]\n",
        "        for line in file:\n",
        "            parts = line.strip().split()\n",
        "            token = \" \".join(parts[:emb_dim]).lower()\n",
        "            embedding = np.array(list(map(float, parts[-embedding_dim:])))\n",
        "            if token in token2index:\n",
        "                continue\n",
        "            token2index[token] = len(token2index)\n",
        "            embeddings.append(embedding)\n",
        "            if len(token2index) > num_tokens:\n",
        "                break\n",
        "    embeddings_matrix: np.array = np.array(embeddings)\n",
        "    # Необязательно задавать здесь\n",
        "    # Это рекомендация к типу\n",
        "    \n",
        "    assert(len(token2index) == embeddings_matrix.shape[0])\n",
        "    \n",
        "    return token2index, embeddings_matrix"
      ],
      "id": "e15a9f7c",
      "execution_count": null,
      "outputs": []
    },
    {
      "cell_type": "markdown",
      "metadata": {
        "id": "c46b2b68"
      },
      "source": [
        "## Загружаем данные из библиотеки\n",
        "Мы сразу получим `torch.utils.data.Dataset`, который сможем передать в `torch.utils.data.DataLoader`"
      ],
      "id": "c46b2b68"
    },
    {
      "cell_type": "code",
      "metadata": {
        "id": "e54fdaa8",
        "outputId": "ccab2759-72f0-4fd9-f26c-01b482061161"
      },
      "source": [
        "dataset_path = \"tweet_eval\"\n",
        "dataset_name = \"sentiment\"\n",
        "\n",
        "train_dataset = load_dataset(path=dataset_path, name=dataset_name, split=\"train\")\n",
        "valid_dataset = load_dataset(path=dataset_path, name=dataset_name, split=\"validation\")\n",
        "test_dataset = load_dataset(path=dataset_path, name=dataset_name, split=\"test\")"
      ],
      "id": "e54fdaa8",
      "execution_count": null,
      "outputs": [
        {
          "name": "stderr",
          "output_type": "stream",
          "text": [
            "Reusing dataset tweet_eval (/Users/a19415907/.cache/huggingface/datasets/tweet_eval/sentiment/1.1.0/12aee5282b8784f3e95459466db4cdf45c6bf49719c25cdb0743d71ed0410343)\n",
            "Reusing dataset tweet_eval (/Users/a19415907/.cache/huggingface/datasets/tweet_eval/sentiment/1.1.0/12aee5282b8784f3e95459466db4cdf45c6bf49719c25cdb0743d71ed0410343)\n",
            "Reusing dataset tweet_eval (/Users/a19415907/.cache/huggingface/datasets/tweet_eval/sentiment/1.1.0/12aee5282b8784f3e95459466db4cdf45c6bf49719c25cdb0743d71ed0410343)\n"
          ]
        }
      ]
    },
    {
      "cell_type": "markdown",
      "metadata": {
        "id": "ad4a0650"
      },
      "source": [
        "## `torch.utils.data.DataLoader`"
      ],
      "id": "ad4a0650"
    },
    {
      "cell_type": "code",
      "metadata": {
        "id": "dc742027"
      },
      "source": [
        "train_loader = DataLoader(train_dataset, batch_size=2, shuffle=True)\n",
        "valid_loader = DataLoader(valid_dataset, batch_size=2, shuffle=False)\n",
        "test_loader = DataLoader(test_dataset, batch_size=2, shuffle=False)"
      ],
      "id": "dc742027",
      "execution_count": null,
      "outputs": []
    },
    {
      "cell_type": "markdown",
      "metadata": {
        "id": "e9012ae5"
      },
      "source": [
        "## Посмотрим что отдает нам `Loader`\n",
        "Это батч формата:\n",
        "```python\n",
        "batch = {\n",
        "    \"text\": [\n",
        "        \"text1\",\n",
        "        \"text2\",\n",
        "        ...,\n",
        "        \"textn\"\n",
        "    ],\n",
        "    \"label\": tensor([\n",
        "        1,\n",
        "        1,\n",
        "        ...,\n",
        "        0\n",
        "    ])\n",
        "}\n",
        "```\n",
        "То есть у нас есть словарь с двумя ключами `text` и `label`, где хранится n примеров. То есть для 5-го примера в батче текст будет храниться в `batch[\"text\"][5]`, а индекс класса будет храниться в `batch[\"label\"][5]`."
      ],
      "id": "e9012ae5"
    },
    {
      "cell_type": "code",
      "metadata": {
        "id": "49bf6b50",
        "outputId": "d0d9073e-853a-400f-f5ce-32fb521aac91"
      },
      "source": [
        "for batch in train_loader:\n",
        "    break\n",
        "\n",
        "batch"
      ],
      "id": "49bf6b50",
      "execution_count": null,
      "outputs": [
        {
          "data": {
            "text/plain": [
              "{'text': ['I\\\\u2019d want Mannone\\\\u002cJenks/sagna\\\\u002cper\\\\u002ckos\\\\u002cTV5\\\\u002ccoq\\\\u002carteta\\\\u002csanti\\\\u002ctheo/gnabry\\\\u002cgiroud\\\\u002cpoldi to start tomorrow',\n",
              "  '\"Crawfish tomorrow, nothing like having it in the comfort of your own home! :)\"'],\n",
              " 'label': tensor([1, 2])}"
            ]
          },
          "execution_count": 5,
          "metadata": {},
          "output_type": "execute_result"
        }
      ]
    },
    {
      "cell_type": "markdown",
      "metadata": {
        "id": "b0b9f0e6"
      },
      "source": [
        "## Collate\n",
        "Сейчас перед нами стоит проблема: мы получаем тексты в виде строк, а нам нужны тензоры (матрицы) с индексами токенов, к тому же нам нужно западить последовательности токенов, чтобы все сложить в торчовую матрицу. Мы можем сделать это двумя способами:\n",
        "- Достать из `train/valid/test_dataset` данные и написать свой `Dataset`, где внутри будет токенизировать текст, токены будут переводиться в индексы и затем последовательность будет падиться до нужной длины\n",
        "- Сделать функцию, которая бы дополнительно обрабатывали наши батчи. Она вставляется в `DataLoader(collate_fn=<ВАША_ФУНКЦИЯ>)`"
      ],
      "id": "b0b9f0e6"
    },
    {
      "cell_type": "markdown",
      "metadata": {
        "id": "d03b0f2e"
      },
      "source": [
        "## Если вы хотите сделать свой `Dataset`\n",
        "То вы можете достать данные таким образом."
      ],
      "id": "d03b0f2e"
    },
    {
      "cell_type": "code",
      "metadata": {
        "id": "26771f88",
        "outputId": "fe403e6f-ed65-460d-ec63-8091d51bdf5c"
      },
      "source": [
        "len(train_dataset[\"text\"]), len(train_dataset[\"label\"])"
      ],
      "id": "26771f88",
      "execution_count": null,
      "outputs": [
        {
          "data": {
            "text/plain": [
              "(45615, 45615)"
            ]
          },
          "execution_count": 6,
          "metadata": {},
          "output_type": "execute_result"
        }
      ]
    },
    {
      "cell_type": "code",
      "metadata": {
        "id": "f25200be",
        "outputId": "ad2c91de-2874-49ef-d6b3-25fbdca7acdb"
      },
      "source": [
        "train_dataset[\"text\"][:2]"
      ],
      "id": "f25200be",
      "execution_count": null,
      "outputs": [
        {
          "data": {
            "text/plain": [
              "['\"QT @user In the original draft of the 7th book, Remus Lupin survived the Battle of Hogwarts. #HappyBirthdayRemusLupin\"',\n",
              " '\"Ben Smith / Smith (concussion) remains out of the lineup Thursday, Curtis #NHL #SJ\"']"
            ]
          },
          "execution_count": 7,
          "metadata": {},
          "output_type": "execute_result"
        }
      ]
    },
    {
      "cell_type": "code",
      "metadata": {
        "id": "d4c952b6",
        "outputId": "9659e96f-3538-4a6d-d390-8ef3c3741842"
      },
      "source": [
        "train_dataset[\"label\"][:2]"
      ],
      "id": "d4c952b6",
      "execution_count": null,
      "outputs": [
        {
          "data": {
            "text/plain": [
              "[2, 1]"
            ]
          },
          "execution_count": 8,
          "metadata": {},
          "output_type": "execute_result"
        }
      ]
    },
    {
      "cell_type": "markdown",
      "metadata": {
        "id": "68184652"
      },
      "source": [
        "## Если вы хотите сделать `collate_fn`"
      ],
      "id": "68184652"
    },
    {
      "cell_type": "markdown",
      "metadata": {
        "id": "706dab4d"
      },
      "source": [
        "### Давайте посмотрим что вообще происходит внутри этого метода\n",
        "Для этого сделаем функцию `empty_collate`, которая принимает на вход батч и отдает его, ничего с ним не делая"
      ],
      "id": "706dab4d"
    },
    {
      "cell_type": "code",
      "metadata": {
        "id": "3b7ce86b"
      },
      "source": [
        "def empty_collate(batch):\n",
        "    return batch"
      ],
      "id": "3b7ce86b",
      "execution_count": null,
      "outputs": []
    },
    {
      "cell_type": "code",
      "metadata": {
        "id": "26f0fe92"
      },
      "source": [
        "train_loader = DataLoader(train_dataset, batch_size=2, shuffle=True, collate_fn=empty_collate)\n",
        "valid_loader = DataLoader(valid_dataset, batch_size=2, shuffle=False, collate_fn=empty_collate)\n",
        "test_loader = DataLoader(test_dataset, batch_size=2, shuffle=False, collate_fn=empty_collate)"
      ],
      "id": "26f0fe92",
      "execution_count": null,
      "outputs": []
    },
    {
      "cell_type": "code",
      "metadata": {
        "id": "942cf78e",
        "outputId": "ef38580d-5dab-4852-fb6d-4a4101f23470"
      },
      "source": [
        "for batch in train_loader:\n",
        "    break\n",
        "\n",
        "batch"
      ],
      "id": "942cf78e",
      "execution_count": null,
      "outputs": [
        {
          "data": {
            "text/plain": [
              "[{'text': 'to watch Big Brother is the only reason why i wake up on a sunday',\n",
              "  'label': 2},\n",
              " {'text': '\"Justin Bieber\\'s smile is now certified gold,as he made this golden announcement on his Snapchat on December 16.',\n",
              "  'label': 2}]"
            ]
          },
          "execution_count": 11,
          "metadata": {},
          "output_type": "execute_result"
        }
      ]
    },
    {
      "cell_type": "markdown",
      "metadata": {
        "id": "91ca5081"
      },
      "source": [
        "## Формат батча\n",
        "```python\n",
        "batch = [\n",
        "    {\n",
        "        \"text\": \"text1\",\n",
        "        \"label\": 0\n",
        "    }, \n",
        "    {\n",
        "        \"text\": \"text2\",\n",
        "        \"label\": 1\n",
        "    },\n",
        "    ...,\n",
        "    {\n",
        "        \"text\": \"textn\",\n",
        "        \"label\": 1\n",
        "    }\n",
        "]\n",
        "```\n",
        "То есть теперь у нас есть список, где каждый элемент — это словарь со значениями `text` и `label`.  \n",
        "\n",
        "Вы можете сделать функцию или класс с методом `collate`. Этот способ решения домашки предодчтительней, так как использовать `collate` очень хорошая практика.\n",
        "\n",
        "Что я предлагаю:\n",
        "- Сделайте класс `Tokenizer`"
      ],
      "id": "91ca5081"
    },
    {
      "cell_type": "code",
      "metadata": {
        "id": "3b9ddcca"
      },
      "source": [
        "class Tokenizer:\n",
        "    \n",
        "    def __init__(self, base_tokenizer, token2index, pad_token, unk_token, max_length):\n",
        "        \n",
        "        self._base_tokenizer = base_tokenizer  # например ToktokTokenizer()\n",
        "        \n",
        "        self.token2index = token2index  # словарь из load_embeddings()\n",
        "        \n",
        "        self.pad_token = pad_token\n",
        "        self.pad_index = self.token2index[self.pad_token]\n",
        "        \n",
        "        self.unk_token = unk_token\n",
        "        self.unk_index = self.token2index[self.unk_token]\n",
        "        \n",
        "        self.max_length = max_length\n",
        "\n",
        "    def tokenize(self, text):\n",
        "        \"\"\"\n",
        "        В этом методе нужно разделить строку текста на токены\n",
        "        \"\"\"\n",
        "        ...\n",
        "    \n",
        "    def indexing(self, tokenized_text):\n",
        "        \"\"\"\n",
        "        В этом методе нужно перевести список токенов в список с индексами этих токенов\n",
        "        \"\"\"\n",
        "        ...\n",
        "        \n",
        "    def padding(self, tokens_indices):\n",
        "        \"\"\"\n",
        "        В этом методе нужно сделать длину tokens_indices равной self.max_length\n",
        "        Опционально убрать повторяющиеся unk'и\n",
        "        \"\"\"\n",
        "        ...\n",
        "    \n",
        "    def __call__(self, text):\n",
        "        \"\"\"\n",
        "        В этом методе нужно перевести строку с текстом в вектор с индексами слов нужно размера (self.max_length)\n",
        "        \"\"\"\n",
        "        ...\n",
        "        \n",
        "    def collate(self, batch):\n",
        "        \n",
        "        tokenized_texts = list()\n",
        "        labels = list()\n",
        "        \n",
        "        for sample in batch:\n",
        "            ...\n",
        "            \n",
        "        tokenized_texts = ...  # перевод в torch.Tensor\n",
        "        labels = ...  # перевод в torch.Tensor\n",
        "        \n",
        "        return tokenized_texts, labels"
      ],
      "id": "3b9ddcca",
      "execution_count": null,
      "outputs": []
    },
    {
      "cell_type": "markdown",
      "metadata": {
        "id": "11ab7e6d"
      },
      "source": [
        "## Перед реализацией выбранного метода\n",
        "Советую, чтобы в итоге `Loader` отдавал кортеж с двумя тензорами:\n",
        "- `torch.Tensor` с индексами токенов, размерность `(batch_size, sequence_length)`\n",
        "- `torch.Tensor` с индексами таргетов, размерность `(batch_size)`\n",
        "\n",
        "То есть, чтобы было так:\n",
        "```python\n",
        "for x, y in train_loader:\n",
        "    ...\n",
        "\n",
        ">> x\n",
        ">> tensor([[   37,  3889,   470,  ...,     0,     0,     0],\n",
        "           [ 1509,   581,   144,  ...,     0,     0,     0],\n",
        "           [ 1804,   893,  2457,  ...,     0,     0,     0],\n",
        "           ...,\n",
        "           [  170, 39526,  2102,  ...,     0,     0,     0],\n",
        "           [ 1217,   172, 28440,  ...,     0,     0,     0],\n",
        "           [   37,    56,   603,  ...,     0,     0,     0]])\n",
        "\n",
        ">> y\n",
        ">> tensor([1, 2, 2, 2, 1, 1, 1, 1, 2, 1, 1, 2, 2, 1, 1, 1, 1, 1, 0, 1, 2, 0, 0, 1,\n",
        "           0, 2, 1, 1, 0, 1, 2, 0, 2, 1, 2, 1, 1, 1, 2, 1, 1, 0, 1, 1, 1, 0, 1, 0,\n",
        "           1, 0, 2, 2, 2, 1, 1, 2, 2, 2, 1, 2, 0, 1, 0, 2, 1, 2, 2, 1, 0, 0, 2, 2,\n",
        "           2, 1, 2, 0, 2, 2, 0, 2, 0, 1, 1, 1, 2, 2, 2, 1, 1, 1, 1, 2, 1, 0, 2, 2,\n",
        "           2, 1, 1, 1, 1, 1, 2, 2, 2, 2, 1, 1, 2, 1, 1, 0, 1, 1, 1, 2, 2, 1, 2, 1,\n",
        "           2, 1, 1, 2, 2, 1, 1, 2])\n",
        "\n",
        ">> x.shape\n",
        ">> torch.Size([128, 64])\n",
        "\n",
        ">> y.shape\n",
        ">> torch.Size([128])\n",
        "```\n",
        "При условии, что батч сайз равен 128, а максимальная длина последовательности равна 64.\n",
        "\n",
        "## Помните"
      ],
      "id": "11ab7e6d"
    },
    {
      "cell_type": "markdown",
      "metadata": {
        "id": "018cf71c"
      },
      "source": [
        "## <Место для реализации>"
      ],
      "id": "018cf71c"
    },
    {
      "cell_type": "code",
      "metadata": {
        "id": "40268f8c"
      },
      "source": [
        "train_loader = ...\n",
        "valid_loader = ...\n",
        "test_loader = ..."
      ],
      "id": "40268f8c",
      "execution_count": null,
      "outputs": []
    },
    {
      "cell_type": "code",
      "metadata": {
        "id": "d293b759"
      },
      "source": [
        "for x, y in train_loader:\n",
        "    break"
      ],
      "id": "d293b759",
      "execution_count": null,
      "outputs": []
    },
    {
      "cell_type": "code",
      "metadata": {
        "id": "87752ad7"
      },
      "source": [
        "assert(isinstance(x, torch.Tensor))\n",
        "assert(len(x.size()) == 2)\n",
        "\n",
        "assert(isinstance(y, torch.Tensor))\n",
        "assert(len(y.size()) == 1)"
      ],
      "id": "87752ad7",
      "execution_count": null,
      "outputs": []
    },
    {
      "cell_type": "markdown",
      "metadata": {
        "id": "dbc96104"
      },
      "source": [
        "# Реализация DAN\n",
        "\n",
        "На вход модели будут подавать индексы слов\n",
        "\n",
        "Шаги:\n",
        "- Переводим индексы слов в эмбеддинги\n",
        "- Усредняем эмбеддинги\n",
        "- Пропускаем усредненные эмбеддинги через `Multilayer Perceptron`\n",
        "    - Нужно реализовать самому\n",
        "    \n",
        "Дополнительно:\n",
        "- Добавьте `nn.Dropout`, `nn.BatchNorm` по вкусу\n",
        "- Сделайте усреднение с учетом падов\n",
        "- Используйте эмбеддинги от берта/роберты/тд (когда-нибудь про это будет целый туториал, а пока предлагают вам попробовать сделать это самим)"
      ],
      "id": "dbc96104"
    },
    {
      "cell_type": "markdown",
      "metadata": {
        "id": "123324f0"
      },
      "source": [
        "# Советы\n",
        "\n",
        "## До обучения\n",
        "- Выберите метрику(ки) качества и расскажите почему она(они)\n",
        "    - Обычно есть основная метрика, по которой принимаем решения какие веса брать и дополнительные, которые нам помогут делать выводы, например, о том все ли хорошо с нашими данными, хорошо ли модель справляется с дисбалансом классов и тд\n",
        "- Эту домашку можно сделать и на `CPU`, но на `GPU` будет сильно быстрее\n",
        "    - Во всех остальных домашках мы будем учить модели на `GPU`\n",
        "    - Рано или поздно вам придется посмотреть этот [туториал](https://www.youtube.com/watch?v=pgk1zGv5lU4)\n",
        "    - Вы можете обучаться на `colab`, это бесплатно\n",
        "\n",
        "## До эпохи\n",
        "- Сделайте списки/словари/другое, чтобы сохранять нужные данные для расчета метрик(и) по всей эпохе для трейна и валидации\n",
        "\n",
        "## Во время эпохи\n",
        "- Используйте [`tqdm`](https://github.com/tqdm/tqdm) как прогресс бар, чтобы понимать как проходит ваше обучение\n",
        "- Логируйте лосс\n",
        "- Логируйте метрику(ки) по батчу\n",
        "- Сохраняйте то, что вам нужно, чтобы посчитать метрик(и) на всю эпоху для трейна и валидации\n",
        "\n",
        "## После эпохи\n",
        "- Посчитайте метрик(и) на всю эпоху для трейна и валидации\n",
        "\n",
        "## После обучения\n",
        "- Провалидируйтесь на тестовом наборе и посмотрите метрики\n",
        "- Постройте [`classification_report`](https://scikit-learn.org/stable/modules/generated/sklearn.metrics.classification_report.html)\n",
        "- Постройте графики:\n",
        "    - [Confusion Matrix](https://scikit-learn.org/stable/modules/model_evaluation.html#confusion-matrix)\n",
        "    - [Опционально] Распределение вероятностей мажоритарного класса (то есть для какого-то примера мы выбираем такой класс и вероятность этого выбора такая-то) на трейне/тесте/валидации\n",
        "        - Если класс был выбран верно и если была ошибка\n",
        "- Подумайте что еще вам будет полезно для того, чтобы ответить на такие вопросы: \n",
        "    - Что в моделе можно улучшить?\n",
        "    - Все ли хорошо с моими данными?\n",
        "    - Все ли хорошо с валидацией?\n",
        "    - Не переобучился ли я?\n",
        "    - Достаточно ли я посмотрел на данные?\n",
        "    - Нужно ли мне улучшить предобработку данных?\n",
        "    - Нужно ли поменять токенизацию или эмбеддинги?\n",
        "    - Нет ли у меня багов в реализации?\n",
        "    - Какие типичные ошибки у моей модели?\n",
        "    - Как я могу их исправить?"
      ],
      "id": "123324f0"
    },
    {
      "cell_type": "markdown",
      "metadata": {
        "id": "ff1f451c"
      },
      "source": [
        "# Я выбрал метрику <МЕТРИКА>\n",
        "Почему я выбрал эту метрику:  \n",
        "<РАССКАЗ_ПРО_МЕТРИКУ>"
      ],
      "id": "ff1f451c"
    },
    {
      "cell_type": "code",
      "metadata": {
        "id": "da42260c"
      },
      "source": [
        "class DeepAverageNetwork(nn.Module):\n",
        "    ..."
      ],
      "id": "da42260c",
      "execution_count": null,
      "outputs": []
    },
    {
      "cell_type": "code",
      "metadata": {
        "id": "7966f715"
      },
      "source": [
        "model = DeepAverageNetwork(...)"
      ],
      "id": "7966f715",
      "execution_count": null,
      "outputs": []
    },
    {
      "cell_type": "code",
      "metadata": {
        "id": "4b4a2161"
      },
      "source": [
        "model"
      ],
      "id": "4b4a2161",
      "execution_count": null,
      "outputs": []
    },
    {
      "cell_type": "markdown",
      "metadata": {
        "id": "5efad1d1"
      },
      "source": [
        "## Задайте функцию потерь и оптимизатор"
      ],
      "id": "5efad1d1"
    },
    {
      "cell_type": "code",
      "metadata": {
        "id": "34c552fa"
      },
      "source": [
        ""
      ],
      "id": "34c552fa",
      "execution_count": null,
      "outputs": []
    },
    {
      "cell_type": "markdown",
      "metadata": {
        "id": "628847fe"
      },
      "source": [
        "## Сделайте цикл обучения"
      ],
      "id": "628847fe"
    },
    {
      "cell_type": "code",
      "metadata": {
        "id": "b634b9ce",
        "outputId": "122e8e7f-7794-4874-dd15-107cf43390e8"
      },
      "source": [
        "NUM_EPOCHS = 2  # Задайте количество эпох\n",
        "\n",
        "...\n",
        "\n",
        "for n_epoch in range(NUM_EPOCHS):\n",
        "    \n",
        "    ...\n",
        "    \n",
        "    # train\n",
        "    ...\n",
        "\n",
        "    # validation\n",
        "    ...\n",
        "    \n",
        "# test\n",
        "..."
      ],
      "id": "b634b9ce",
      "execution_count": null,
      "outputs": [
        {
          "data": {
            "text/plain": [
              "Ellipsis"
            ]
          },
          "execution_count": 20,
          "metadata": {},
          "output_type": "execute_result"
        }
      ]
    },
    {
      "cell_type": "markdown",
      "metadata": {
        "id": "87583e79"
      },
      "source": [
        "# Выводы\n",
        "Напишите небольшой отчет о проделанной работе. Что удалось, в чем не уверены, что делать дальше."
      ],
      "id": "87583e79"
    },
    {
      "cell_type": "code",
      "metadata": {
        "id": "c3ad7f80"
      },
      "source": [
        ""
      ],
      "id": "c3ad7f80",
      "execution_count": null,
      "outputs": []
    }
  ]
}